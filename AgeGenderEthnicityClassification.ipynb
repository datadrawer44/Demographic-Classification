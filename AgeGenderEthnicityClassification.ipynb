{
 "cells": [
  {
   "cell_type": "code",
   "execution_count": 83,
   "metadata": {},
   "outputs": [],
   "source": [
    "import tensorflow as tf\n",
    "import numpy as np\n",
    "import pandas as pd\n",
    "import csv\n",
    "from PIL import Image\n",
    "from tensorflow.keras import Sequential\n",
    "import math\n",
    "from sklearn.model_selection import train_test_split\n",
    "from keras.optimizers import SGD\n",
    "from tensorflow.keras.layers import Dense, Conv2D, MaxPool2D, Flatten, Dropout"
   ]
  },
  {
   "cell_type": "code",
   "execution_count": 2,
   "metadata": {},
   "outputs": [],
   "source": [
    "#TO DO: \n"
   ]
  },
  {
   "cell_type": "code",
   "execution_count": 8,
   "metadata": {},
   "outputs": [],
   "source": [
    "# (Recurring) Add your important data processing functions up here! \n",
    "\n",
    "#### FUNCTION: \n",
    "# name: array_to_image\n",
    "# param: array : array to be converted to image\n",
    "# return: image \n",
    "\n",
    "def array_to_image(array):\n",
    "    converted_array = array.split(\" \")\n",
    "    dim = int(math.pow(len(converted_array), 0.5))\n",
    "    image_array = np.zeros((dim, dim), dtype=np.float32)\n",
    "    for x in range(0, dim):\n",
    "        for y in range(0, dim):\n",
    "            index = (dim * x)+y\n",
    "            value = int(converted_array[index])/255\n",
    "            image_array[x][y] = value\n",
    "    img = Image.fromarray(image_array, 'L')\n",
    "    img.show()\n",
    "            \n",
    "            \n",
    "\n",
    "\n"
   ]
  },
  {
   "cell_type": "code",
   "execution_count": 9,
   "metadata": {},
   "outputs": [],
   "source": [
    "#1. Read the Data From the File\n",
    "all_personal_information = pd.read_csv(\"age_gender.csv\")"
   ]
  },
  {
   "cell_type": "code",
   "execution_count": 24,
   "metadata": {},
   "outputs": [],
   "source": [
    "#2. Convert 2D int Array to image\n",
    "pixel_info = all_personal_information['pixels']\n",
    "for i in range(1):\n",
    "    current_picture = pixel_info[i]\n",
    "    array_to_image(current_picture)\n"
   ]
  },
  {
   "cell_type": "code",
   "execution_count": 25,
   "metadata": {},
   "outputs": [
    {
     "name": "stdout",
     "output_type": "stream",
     "text": [
      "23705\n"
     ]
    }
   ],
   "source": [
    "X=pixel_info.apply(lambda x:  np.array(x.split(), dtype=\"float32\")) #converting data to numpy array\n",
    "X=np.array(X)/255.0 #normalization\n",
    "\n",
    "X_data = []\n",
    "print(X.shape[0])\n",
    "for i in range(X.shape[0]):\n",
    "    X_data.append(X[i].reshape(48, 48, 1)) #reshaping the data to (n,48,48,1)\n",
    "X_data = np.array(X_data)"
   ]
  },
  {
   "cell_type": "code",
   "execution_count": 35,
   "metadata": {},
   "outputs": [
    {
     "name": "stdout",
     "output_type": "stream",
     "text": [
      "<class 'numpy.ndarray'>\n"
     ]
    }
   ],
   "source": [
    "print(type(X_data))"
   ]
  },
  {
   "cell_type": "code",
   "execution_count": 10,
   "metadata": {},
   "outputs": [
    {
     "data": {
      "text/html": [
       "<div>\n",
       "<style scoped>\n",
       "    .dataframe tbody tr th:only-of-type {\n",
       "        vertical-align: middle;\n",
       "    }\n",
       "\n",
       "    .dataframe tbody tr th {\n",
       "        vertical-align: top;\n",
       "    }\n",
       "\n",
       "    .dataframe thead th {\n",
       "        text-align: right;\n",
       "    }\n",
       "</style>\n",
       "<table border=\"1\" class=\"dataframe\">\n",
       "  <thead>\n",
       "    <tr style=\"text-align: right;\">\n",
       "      <th></th>\n",
       "      <th>age</th>\n",
       "      <th>ethnicity</th>\n",
       "      <th>gender</th>\n",
       "      <th>img_name</th>\n",
       "      <th>pixels</th>\n",
       "    </tr>\n",
       "  </thead>\n",
       "  <tbody>\n",
       "    <tr>\n",
       "      <th>0</th>\n",
       "      <td>1</td>\n",
       "      <td>2</td>\n",
       "      <td>0</td>\n",
       "      <td>20161219203650636.jpg.chip.jpg</td>\n",
       "      <td>129 128 128 126 127 130 133 135 139 142 145 14...</td>\n",
       "    </tr>\n",
       "    <tr>\n",
       "      <th>1</th>\n",
       "      <td>1</td>\n",
       "      <td>2</td>\n",
       "      <td>0</td>\n",
       "      <td>20161219222752047.jpg.chip.jpg</td>\n",
       "      <td>164 74 111 168 169 171 175 182 184 188 193 199...</td>\n",
       "    </tr>\n",
       "    <tr>\n",
       "      <th>2</th>\n",
       "      <td>1</td>\n",
       "      <td>2</td>\n",
       "      <td>0</td>\n",
       "      <td>20161219222832191.jpg.chip.jpg</td>\n",
       "      <td>67 70 71 70 69 67 70 79 90 103 116 132 145 155...</td>\n",
       "    </tr>\n",
       "    <tr>\n",
       "      <th>3</th>\n",
       "      <td>1</td>\n",
       "      <td>2</td>\n",
       "      <td>0</td>\n",
       "      <td>20161220144911423.jpg.chip.jpg</td>\n",
       "      <td>193 197 198 200 199 200 202 203 204 205 208 21...</td>\n",
       "    </tr>\n",
       "    <tr>\n",
       "      <th>4</th>\n",
       "      <td>1</td>\n",
       "      <td>2</td>\n",
       "      <td>0</td>\n",
       "      <td>20161220144914327.jpg.chip.jpg</td>\n",
       "      <td>202 205 209 210 209 209 210 211 212 214 218 21...</td>\n",
       "    </tr>\n",
       "  </tbody>\n",
       "</table>\n",
       "</div>"
      ],
      "text/plain": [
       "   age  ethnicity  gender                        img_name  \\\n",
       "0    1          2       0  20161219203650636.jpg.chip.jpg   \n",
       "1    1          2       0  20161219222752047.jpg.chip.jpg   \n",
       "2    1          2       0  20161219222832191.jpg.chip.jpg   \n",
       "3    1          2       0  20161220144911423.jpg.chip.jpg   \n",
       "4    1          2       0  20161220144914327.jpg.chip.jpg   \n",
       "\n",
       "                                              pixels  \n",
       "0  129 128 128 126 127 130 133 135 139 142 145 14...  \n",
       "1  164 74 111 168 169 171 175 182 184 188 193 199...  \n",
       "2  67 70 71 70 69 67 70 79 90 103 116 132 145 155...  \n",
       "3  193 197 198 200 199 200 202 203 204 205 208 21...  \n",
       "4  202 205 209 210 209 209 210 211 212 214 218 21...  "
      ]
     },
     "execution_count": 10,
     "metadata": {},
     "output_type": "execute_result"
    }
   ],
   "source": [
    "all_personal_information.head()"
   ]
  },
  {
   "cell_type": "code",
   "execution_count": 9,
   "metadata": {},
   "outputs": [
    {
     "data": {
      "text/plain": [
       "<matplotlib.image.AxesImage at 0x148406ef0>"
      ]
     },
     "execution_count": 9,
     "metadata": {},
     "output_type": "execute_result"
    }
   ],
   "source": [
    "import matplotlib.pyplot as plt\n",
    "\n",
    "plt.imshow(X_data[5555], cmap= plt.cm.summer)"
   ]
  },
  {
   "cell_type": "code",
   "execution_count": 5,
   "metadata": {},
   "outputs": [],
   "source": [
    "## Gender"
   ]
  },
  {
   "cell_type": "code",
   "execution_count": 164,
   "metadata": {},
   "outputs": [],
   "source": [
    "#5. Split up YData \n",
    "\n",
    "gender_data = all_personal_information['gender']\n",
    "Y = gender_data.apply(lambda x:  np.array(x, dtype=\"float32\"))\n",
    "\n",
    "Y_data = []\n",
    "for i in range(Y.shape[0]):\n",
    "    Y_data.append(Y[i].reshape((1,-1)))\n",
    "Y_data = np.array(Y_data)\n",
    "    "
   ]
  },
  {
   "cell_type": "code",
   "execution_count": 46,
   "metadata": {},
   "outputs": [
    {
     "name": "stdout",
     "output_type": "stream",
     "text": [
      "[[0.]]\n"
     ]
    }
   ],
   "source": [
    "print(Y_data[1])"
   ]
  },
  {
   "cell_type": "code",
   "execution_count": 165,
   "metadata": {},
   "outputs": [],
   "source": [
    "X_train, X_test, Y_train, Y_test = train_test_split(\n",
    "  X_data, Y_data, test_size=0.33, random_state=42)"
   ]
  },
  {
   "cell_type": "code",
   "execution_count": 49,
   "metadata": {},
   "outputs": [
    {
     "name": "stdout",
     "output_type": "stream",
     "text": [
      "(1, 1)\n",
      "-----------\n",
      "(48, 48, 1)\n"
     ]
    }
   ],
   "source": [
    "print(Y_train[0].shape)\n",
    "print(\"-----------\")\n",
    "print(X_train[0].shape)"
   ]
  },
  {
   "cell_type": "code",
   "execution_count": 1,
   "metadata": {},
   "outputs": [],
   "source": [
    "#BEST MODEL: Accuracy: 88.5% \n",
    "\n",
    "#DO NOT RUN\n",
    "#model = Sequential()\n",
    "#model.add(tf.keras.layers.Conv2D(32, (5, 5), strides=(1, 1), activation=tf.nn.leaky_relu))\n",
    "#model.add(tf.keras.layers.MaxPool2D(pool_size=(2,2), strides=2))\n",
    "#model.add(tf.keras.layers.Dropout(rate=0.6))\n",
    "#model.add(tf.keras.layers.Flatten())\n",
    "#model.add(tf.keras.layers.Dense(units = 16, activation=tf.nn.leaky_relu))\n",
    "#model.add(tf.keras.layers.Dense(units = 8, activation=tf.nn.leaky_relu))\n",
    "#model.add(tf.keras.layers.Dense(units = 4, activation=tf.nn.leaky_relu))\n",
    "#model.add(tf.keras.layers.Dense(units = 2, activation='sigmoid'))\n",
    "\n",
    "\n",
    "#model.compile(optimizer='adam', loss='binary_crossentropy',\n",
    "        #     metrics=['accuracy'])\n",
    "\n",
    "\n",
    "#model.compile(optimizer='adam', loss='binary_crossentropy',\n",
    "#             metrics=['accuracy'])\n",
    "#model.fit(X_train, Y_train, batch_size = 25, epochs=12)"
   ]
  },
  {
   "cell_type": "code",
   "execution_count": 181,
   "metadata": {},
   "outputs": [],
   "source": [
    "#3. Set Up your Artificial Neural Network (choose a CNN for now -> last layer = sigmoid, other layers = relu/leaky)\n",
    "\n",
    "model = Sequential()\n",
    "model.add(tf.keras.layers.Conv2D(32, (5, 5), strides=(1, 1), activation=tf.nn.leaky_relu))\n",
    "model.add(tf.keras.layers.MaxPool2D(pool_size=(2,2), strides=2))\n",
    "model.add(tf.keras.layers.Dropout(rate=0.6))\n",
    "model.add(tf.keras.layers.Flatten())\n",
    "model.add(tf.keras.layers.Dense(units = 16, activation=tf.nn.leaky_relu))\n",
    "model.add(tf.keras.layers.Dense(units = 8, activation=tf.nn.leaky_relu))\n",
    "model.add(tf.keras.layers.Dense(units = 4, activation=tf.nn.leaky_relu))\n",
    "model.add(tf.keras.layers.Dense(units = 2, activation='sigmoid'))\n",
    "\n",
    "\n",
    "model.compile(optimizer='adam', loss='sparse_categorical_crossentropy',\n",
    "             metrics=['accuracy'])"
   ]
  },
  {
   "cell_type": "code",
   "execution_count": 182,
   "metadata": {},
   "outputs": [
    {
     "name": "stdout",
     "output_type": "stream",
     "text": [
      "Epoch 1/10\n",
      "636/636 [==============================] - 24s 38ms/step - loss: 0.4596 - accuracy: 0.7697\n",
      "Epoch 2/10\n",
      "636/636 [==============================] - 25s 40ms/step - loss: 0.3414 - accuracy: 0.8430\n",
      "Epoch 3/10\n",
      "636/636 [==============================] - 24s 37ms/step - loss: 0.3151 - accuracy: 0.8569\n",
      "Epoch 4/10\n",
      "636/636 [==============================] - 25s 40ms/step - loss: 0.2979 - accuracy: 0.8676\n",
      "Epoch 5/10\n",
      "636/636 [==============================] - 24s 38ms/step - loss: 0.2773 - accuracy: 0.8768\n",
      "Epoch 6/10\n",
      "636/636 [==============================] - 25s 39ms/step - loss: 0.2649 - accuracy: 0.8836\n",
      "Epoch 7/10\n",
      "636/636 [==============================] - 24s 39ms/step - loss: 0.2487 - accuracy: 0.8927\n",
      "Epoch 8/10\n",
      "636/636 [==============================] - 24s 38ms/step - loss: 0.2343 - accuracy: 0.8994\n",
      "Epoch 9/10\n",
      "636/636 [==============================] - 25s 40ms/step - loss: 0.2205 - accuracy: 0.9083\n",
      "Epoch 10/10\n",
      "636/636 [==============================] - 25s 40ms/step - loss: 0.2058 - accuracy: 0.9109\n"
     ]
    },
    {
     "data": {
      "text/plain": [
       "<tensorflow.python.keras.callbacks.History at 0x1900ba1d0>"
      ]
     },
     "execution_count": 182,
     "metadata": {},
     "output_type": "execute_result"
    }
   ],
   "source": [
    "model.fit(X_train, Y_train, batch_size = 25, epochs=10)"
   ]
  },
  {
   "cell_type": "code",
   "execution_count": 183,
   "metadata": {},
   "outputs": [
    {
     "name": "stdout",
     "output_type": "stream",
     "text": [
      "245/245 [==============================] - 3s 12ms/step - loss: 0.2877 - accuracy: 0.8850\n",
      "0.28769129514694214 0.8849546313285828\n"
     ]
    }
   ],
   "source": [
    "val_loss, val_acc = model.evaluate(X_test, Y_test)\n",
    "print(val_loss, val_acc)"
   ]
  },
  {
   "cell_type": "code",
   "execution_count": 110,
   "metadata": {},
   "outputs": [
    {
     "name": "stdout",
     "output_type": "stream",
     "text": [
      "Model: \"sequential_39\"\n",
      "_________________________________________________________________\n",
      "Layer (type)                 Output Shape              Param #   \n",
      "=================================================================\n",
      "conv2d_69 (Conv2D)           (None, 44, 44, 8)         208       \n",
      "_________________________________________________________________\n",
      "max_pooling2d_69 (MaxPooling (None, 22, 22, 8)         0         \n",
      "_________________________________________________________________\n",
      "conv2d_70 (Conv2D)           (None, 18, 18, 16)        3216      \n",
      "_________________________________________________________________\n",
      "max_pooling2d_70 (MaxPooling (None, 9, 9, 16)          0         \n",
      "_________________________________________________________________\n",
      "flatten_34 (Flatten)         (None, 1296)              0         \n",
      "_________________________________________________________________\n",
      "dense_38 (Dense)             (None, 1)                 1297      \n",
      "=================================================================\n",
      "Total params: 4,721\n",
      "Trainable params: 4,721\n",
      "Non-trainable params: 0\n",
      "_________________________________________________________________\n"
     ]
    }
   ],
   "source": [
    "model.summary()"
   ]
  },
  {
   "cell_type": "code",
   "execution_count": 21,
   "metadata": {},
   "outputs": [],
   "source": [
    "ethnicity_data = all_personal_information['ethnicity']\n",
    "Y_ethnicity = ethnicity_data.apply(lambda x:  np.array(x, dtype=\"float32\"))\n",
    "\n",
    "Y_ethnicity_data = []\n",
    "for i in range(Y_ethnicity.shape[0]):\n",
    "    Y_ethnicity_data.append(Y_ethnicity[i].reshape((1,-1)))\n",
    "Y_ethnicity_data = np.array(Y_ethnicity_data)"
   ]
  },
  {
   "cell_type": "code",
   "execution_count": 22,
   "metadata": {},
   "outputs": [
    {
     "name": "stdout",
     "output_type": "stream",
     "text": [
      "{0, 1, 2, 3, 4}\n"
     ]
    }
   ],
   "source": [
    "print(set(ethnicity_data))"
   ]
  },
  {
   "cell_type": "code",
   "execution_count": null,
   "metadata": {},
   "outputs": [],
   "source": []
  },
  {
   "cell_type": "code",
   "execution_count": 29,
   "metadata": {},
   "outputs": [],
   "source": [
    "X_train, X_test, Y_train_e, Y_test_e = train_test_split(\n",
    "  X_data, Y_ethnicity_data, test_size=0.33, random_state=42)"
   ]
  },
  {
   "cell_type": "code",
   "execution_count": null,
   "metadata": {},
   "outputs": [],
   "source": [
    "#Best Model 76.62%\n",
    "\n",
    "#e_model = Sequential()\n",
    "#e_model.add(Conv2D(32, (3, 3), strides=(1, 1), activation=tf.nn.leaky_relu, input_shape=(48,48,1)))\n",
    "#e_model.add(MaxPool2D(pool_size=(2,2), strides=2))\n",
    "#e_model.add(Dropout(rate=0.5))\n",
    "#e_model.add(Flatten())\n",
    "#e_model.add(Dense(40, activation=tf.nn.leaky_relu))\n",
    "#e_model.add(Dense(20, activation=tf.nn.leaky_relu))\n",
    "#e_model.add(Dense(10, activation=tf.nn.leaky_relu))\n",
    "#e_model.add(Dense(5, activation=\"sigmoid\"))\n",
    "\n",
    "\n",
    "#sgd= SGD(lr=0.01, momentum=0.9)\n",
    "\n",
    "\n",
    "#e_model.compile(optimizer=\"adam\", loss='sparse_categorical_crossentropy',\n",
    "#             metrics=['accuracy'])\n",
    "\n",
    "# e_model.fit(X_train, Y_train_e, batch_size = 32, epochs=10)"
   ]
  },
  {
   "cell_type": "code",
   "execution_count": 160,
   "metadata": {},
   "outputs": [],
   "source": [
    "e_model = Sequential()\n",
    "e_model.add(Conv2D(32, (3, 3), strides=(1, 1), activation=tf.nn.leaky_relu, input_shape=(48,48,1)))\n",
    "e_model.add(MaxPool2D(pool_size=(2,2), strides=2))\n",
    "e_model.add(Dropout(rate=0.5))\n",
    "e_model.add(Flatten())\n",
    "e_model.add(Dense(40, activation=tf.nn.leaky_relu))\n",
    "e_model.add(Dense(20, activation=tf.nn.leaky_relu))\n",
    "e_model.add(Dense(10, activation=tf.nn.leaky_relu))\n",
    "e_model.add(Dense(5, activation=\"sigmoid\"))\n",
    "\n",
    "\n",
    "e_model.compile(optimizer=\"adam\", loss='sparse_categorical_crossentropy',\n",
    "             metrics=['accuracy'])"
   ]
  },
  {
   "cell_type": "code",
   "execution_count": 161,
   "metadata": {},
   "outputs": [
    {
     "name": "stdout",
     "output_type": "stream",
     "text": [
      "Epoch 1/10\n",
      "497/497 [==============================] - 17s 34ms/step - loss: 1.0883 - accuracy: 0.5914\n",
      "Epoch 2/10\n",
      "497/497 [==============================] - 17s 34ms/step - loss: 0.8178 - accuracy: 0.7152\n",
      "Epoch 3/10\n",
      "497/497 [==============================] - 16s 33ms/step - loss: 0.7588 - accuracy: 0.7357\n",
      "Epoch 4/10\n",
      "497/497 [==============================] - 17s 34ms/step - loss: 0.7113 - accuracy: 0.7524\n",
      "Epoch 5/10\n",
      "497/497 [==============================] - 17s 35ms/step - loss: 0.6685 - accuracy: 0.7634\n",
      "Epoch 6/10\n",
      "497/497 [==============================] - 17s 34ms/step - loss: 0.6435 - accuracy: 0.7758\n",
      "Epoch 7/10\n",
      "497/497 [==============================] - 17s 34ms/step - loss: 0.6225 - accuracy: 0.7829\n",
      "Epoch 8/10\n",
      "497/497 [==============================] - 18s 35ms/step - loss: 0.5954 - accuracy: 0.7938\n",
      "Epoch 9/10\n",
      "497/497 [==============================] - 17s 35ms/step - loss: 0.5694 - accuracy: 0.8001\n",
      "Epoch 10/10\n",
      "497/497 [==============================] - 18s 35ms/step - loss: 0.5482 - accuracy: 0.8077\n"
     ]
    },
    {
     "data": {
      "text/plain": [
       "<tensorflow.python.keras.callbacks.History at 0x19abeff98>"
      ]
     },
     "execution_count": 161,
     "metadata": {},
     "output_type": "execute_result"
    }
   ],
   "source": [
    "e_model.fit(X_train, Y_train_e, batch_size = 32, epochs=10)"
   ]
  },
  {
   "cell_type": "code",
   "execution_count": 162,
   "metadata": {},
   "outputs": [
    {
     "name": "stdout",
     "output_type": "stream",
     "text": [
      "245/245 [==============================] - 2s 10ms/step - loss: 0.7003 - accuracy: 0.7662\n",
      "0.7003362774848938 0.7662022113800049\n"
     ]
    }
   ],
   "source": [
    "val_loss, val_acc = e_model.evaluate(X_test, Y_test_e)\n",
    "print(val_loss, val_acc)"
   ]
  }
 ],
 "metadata": {
  "kernelspec": {
   "display_name": "Python 3",
   "language": "python",
   "name": "python3"
  },
  "language_info": {
   "codemirror_mode": {
    "name": "ipython",
    "version": 3
   },
   "file_extension": ".py",
   "mimetype": "text/x-python",
   "name": "python",
   "nbconvert_exporter": "python",
   "pygments_lexer": "ipython3",
   "version": "3.6.4"
  }
 },
 "nbformat": 4,
 "nbformat_minor": 4
}
